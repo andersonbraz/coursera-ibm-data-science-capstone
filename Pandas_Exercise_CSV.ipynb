{
  "nbformat": 4,
  "nbformat_minor": 0,
  "metadata": {
    "colab": {
      "name": "Pandas_Exercise_CSV.ipynb",
      "provenance": [],
      "collapsed_sections": [],
      "authorship_tag": "ABX9TyO4hWWL6b0uGClKvn9a62Yy",
      "include_colab_link": true
    },
    "kernelspec": {
      "name": "python3",
      "display_name": "Python 3"
    }
  },
  "cells": [
    {
      "cell_type": "markdown",
      "metadata": {
        "id": "view-in-github",
        "colab_type": "text"
      },
      "source": [
        "<a href=\"https://colab.research.google.com/github/andersonbraz/coursera-ibm-data-science-capstone/blob/master/Pandas_Exercise_CSV.ipynb\" target=\"_parent\"><img src=\"https://colab.research.google.com/assets/colab-badge.svg\" alt=\"Open In Colab\"/></a>"
      ]
    },
    {
      "cell_type": "code",
      "metadata": {
        "id": "6_T1yKpmCxkf"
      },
      "source": [
        "import pandas as pd"
      ],
      "execution_count": 14,
      "outputs": []
    },
    {
      "cell_type": "code",
      "metadata": {
        "colab": {
          "base_uri": "https://localhost:8080/",
          "height": 204
        },
        "id": "nzqTs_NKDCpu",
        "outputId": "0cdb4bbd-d55c-4578-a135-b46ac9b4f49a"
      },
      "source": [
        "url_csv = 'https://raw.githubusercontent.com/andersonbraz/coursera-ibm-data-science-capstone/master/miami_dataset.csv'\n",
        "data = pd.read_csv(url_csv)\n",
        "data.head(99)"
      ],
      "execution_count": 15,
      "outputs": [
        {
          "output_type": "execute_result",
          "data": {
            "text/html": [
              "<div>\n",
              "<style scoped>\n",
              "    .dataframe tbody tr th:only-of-type {\n",
              "        vertical-align: middle;\n",
              "    }\n",
              "\n",
              "    .dataframe tbody tr th {\n",
              "        vertical-align: top;\n",
              "    }\n",
              "\n",
              "    .dataframe thead th {\n",
              "        text-align: right;\n",
              "    }\n",
              "</style>\n",
              "<table border=\"1\" class=\"dataframe\">\n",
              "  <thead>\n",
              "    <tr style=\"text-align: right;\">\n",
              "      <th></th>\n",
              "      <th>Neighborhood</th>\n",
              "      <th>Latitude</th>\n",
              "      <th>Longitude</th>\n",
              "    </tr>\n",
              "  </thead>\n",
              "  <tbody>\n",
              "    <tr>\n",
              "      <th>0</th>\n",
              "      <td>Allapattah</td>\n",
              "      <td>25.815</td>\n",
              "      <td>-80.224</td>\n",
              "    </tr>\n",
              "    <tr>\n",
              "      <th>1</th>\n",
              "      <td>Arts &amp; Entertainment District</td>\n",
              "      <td>-25.799</td>\n",
              "      <td>-80.190</td>\n",
              "    </tr>\n",
              "    <tr>\n",
              "      <th>2</th>\n",
              "      <td>Brickell</td>\n",
              "      <td>25.758</td>\n",
              "      <td>-80.193</td>\n",
              "    </tr>\n",
              "    <tr>\n",
              "      <th>3</th>\n",
              "      <td>Buena Vista</td>\n",
              "      <td>25.813</td>\n",
              "      <td>-80.192</td>\n",
              "    </tr>\n",
              "    <tr>\n",
              "      <th>4</th>\n",
              "      <td>Coconut Grove</td>\n",
              "      <td>25.712</td>\n",
              "      <td>-80.257</td>\n",
              "    </tr>\n",
              "  </tbody>\n",
              "</table>\n",
              "</div>"
            ],
            "text/plain": [
              "                    Neighborhood  Latitude  Longitude\n",
              "0                     Allapattah    25.815    -80.224\n",
              "1  Arts & Entertainment District   -25.799    -80.190\n",
              "2                       Brickell    25.758    -80.193\n",
              "3                    Buena Vista    25.813    -80.192\n",
              "4                  Coconut Grove    25.712    -80.257"
            ]
          },
          "metadata": {
            "tags": []
          },
          "execution_count": 15
        }
      ]
    }
  ]
}