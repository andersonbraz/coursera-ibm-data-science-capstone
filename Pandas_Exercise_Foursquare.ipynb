{
  "nbformat": 4,
  "nbformat_minor": 0,
  "metadata": {
    "colab": {
      "name": "Pandas_Exercise_Foursquare.ipynb",
      "provenance": [],
      "collapsed_sections": [],
      "authorship_tag": "ABX9TyMc1UIRybGpq8bTq+llfpF6",
      "include_colab_link": true
    },
    "kernelspec": {
      "name": "python3",
      "display_name": "Python 3"
    }
  },
  "cells": [
    {
      "cell_type": "markdown",
      "metadata": {
        "id": "view-in-github",
        "colab_type": "text"
      },
      "source": [
        "<a href=\"https://colab.research.google.com/github/andersonbraz/coursera-ibm-data-science-capstone/blob/master/Pandas_Exercise_Foursquare.ipynb\" target=\"_parent\"><img src=\"https://colab.research.google.com/assets/colab-badge.svg\" alt=\"Open In Colab\"/></a>"
      ]
    },
    {
      "cell_type": "markdown",
      "metadata": {
        "id": "TEqYwdQHIFCQ"
      },
      "source": [
        "# Step 01 - Get Datas"
      ]
    },
    {
      "cell_type": "code",
      "metadata": {
        "id": "HAZeRtF9H4XZ"
      },
      "source": [
        "import pandas as pd\n",
        "import requests\n",
        "import folium\n",
        "from IPython.display import display"
      ],
      "execution_count": 1,
      "outputs": []
    },
    {
      "cell_type": "code",
      "metadata": {
        "colab": {
          "base_uri": "https://localhost:8080/",
          "height": 762
        },
        "id": "aD1eM0h0IBcR",
        "outputId": "67e57313-7645-4d91-c89a-e55e0b614cba"
      },
      "source": [
        "url_csv = 'https://raw.githubusercontent.com/andersonbraz/coursera-ibm-data-science-capstone/master/miami_dataset.csv'\n",
        "miami_data = pd.read_csv(url_csv)\n",
        "miami_data.head(99)"
      ],
      "execution_count": 2,
      "outputs": [
        {
          "output_type": "execute_result",
          "data": {
            "text/html": [
              "<div>\n",
              "<style scoped>\n",
              "    .dataframe tbody tr th:only-of-type {\n",
              "        vertical-align: middle;\n",
              "    }\n",
              "\n",
              "    .dataframe tbody tr th {\n",
              "        vertical-align: top;\n",
              "    }\n",
              "\n",
              "    .dataframe thead th {\n",
              "        text-align: right;\n",
              "    }\n",
              "</style>\n",
              "<table border=\"1\" class=\"dataframe\">\n",
              "  <thead>\n",
              "    <tr style=\"text-align: right;\">\n",
              "      <th></th>\n",
              "      <th>Neighborhood</th>\n",
              "      <th>Latitude</th>\n",
              "      <th>Longitude</th>\n",
              "    </tr>\n",
              "  </thead>\n",
              "  <tbody>\n",
              "    <tr>\n",
              "      <th>0</th>\n",
              "      <td>Allapattah</td>\n",
              "      <td>25.815</td>\n",
              "      <td>-80.224</td>\n",
              "    </tr>\n",
              "    <tr>\n",
              "      <th>1</th>\n",
              "      <td>Arts &amp; Entertainment District</td>\n",
              "      <td>-25.799</td>\n",
              "      <td>-80.190</td>\n",
              "    </tr>\n",
              "    <tr>\n",
              "      <th>2</th>\n",
              "      <td>Brickell</td>\n",
              "      <td>25.758</td>\n",
              "      <td>-80.193</td>\n",
              "    </tr>\n",
              "    <tr>\n",
              "      <th>3</th>\n",
              "      <td>Buena Vista</td>\n",
              "      <td>25.813</td>\n",
              "      <td>-80.192</td>\n",
              "    </tr>\n",
              "    <tr>\n",
              "      <th>4</th>\n",
              "      <td>Coconut Grove</td>\n",
              "      <td>25.712</td>\n",
              "      <td>-80.257</td>\n",
              "    </tr>\n",
              "    <tr>\n",
              "      <th>5</th>\n",
              "      <td>Coral Way</td>\n",
              "      <td>25.750</td>\n",
              "      <td>-80.283</td>\n",
              "    </tr>\n",
              "    <tr>\n",
              "      <th>6</th>\n",
              "      <td>Design District</td>\n",
              "      <td>25.813</td>\n",
              "      <td>-80.193</td>\n",
              "    </tr>\n",
              "    <tr>\n",
              "      <th>7</th>\n",
              "      <td>Downtown</td>\n",
              "      <td>25.774</td>\n",
              "      <td>-80.193</td>\n",
              "    </tr>\n",
              "    <tr>\n",
              "      <th>8</th>\n",
              "      <td>Edgewater</td>\n",
              "      <td>25.802</td>\n",
              "      <td>-80.190</td>\n",
              "    </tr>\n",
              "    <tr>\n",
              "      <th>9</th>\n",
              "      <td>Flagami</td>\n",
              "      <td>25.762</td>\n",
              "      <td>-80.316</td>\n",
              "    </tr>\n",
              "    <tr>\n",
              "      <th>10</th>\n",
              "      <td>Grapeland Heights</td>\n",
              "      <td>25.792</td>\n",
              "      <td>-80.258</td>\n",
              "    </tr>\n",
              "    <tr>\n",
              "      <th>11</th>\n",
              "      <td>Liberty City</td>\n",
              "      <td>25.832</td>\n",
              "      <td>-80.225</td>\n",
              "    </tr>\n",
              "    <tr>\n",
              "      <th>12</th>\n",
              "      <td>Little Haiti</td>\n",
              "      <td>25.824</td>\n",
              "      <td>-80.191</td>\n",
              "    </tr>\n",
              "    <tr>\n",
              "      <th>13</th>\n",
              "      <td>Little Havana</td>\n",
              "      <td>25.773</td>\n",
              "      <td>-80.215</td>\n",
              "    </tr>\n",
              "    <tr>\n",
              "      <th>14</th>\n",
              "      <td>Lummus Park</td>\n",
              "      <td>25.777</td>\n",
              "      <td>-80.201</td>\n",
              "    </tr>\n",
              "    <tr>\n",
              "      <th>15</th>\n",
              "      <td>Midtown</td>\n",
              "      <td>25.807</td>\n",
              "      <td>-80.193</td>\n",
              "    </tr>\n",
              "    <tr>\n",
              "      <th>16</th>\n",
              "      <td>Overtown</td>\n",
              "      <td>25.787</td>\n",
              "      <td>-80.201</td>\n",
              "    </tr>\n",
              "    <tr>\n",
              "      <th>17</th>\n",
              "      <td>Park West</td>\n",
              "      <td>25.785</td>\n",
              "      <td>-80.193</td>\n",
              "    </tr>\n",
              "    <tr>\n",
              "      <th>18</th>\n",
              "      <td>The Roads</td>\n",
              "      <td>25.756</td>\n",
              "      <td>-80.207</td>\n",
              "    </tr>\n",
              "    <tr>\n",
              "      <th>19</th>\n",
              "      <td>Upper Eastside</td>\n",
              "      <td>25.830</td>\n",
              "      <td>-80.183</td>\n",
              "    </tr>\n",
              "    <tr>\n",
              "      <th>20</th>\n",
              "      <td>Venetian Islands</td>\n",
              "      <td>25.791</td>\n",
              "      <td>-80.161</td>\n",
              "    </tr>\n",
              "    <tr>\n",
              "      <th>21</th>\n",
              "      <td>Virginia Key</td>\n",
              "      <td>25.736</td>\n",
              "      <td>-80.155</td>\n",
              "    </tr>\n",
              "    <tr>\n",
              "      <th>22</th>\n",
              "      <td>West Flagler</td>\n",
              "      <td>25.775</td>\n",
              "      <td>-80.243</td>\n",
              "    </tr>\n",
              "  </tbody>\n",
              "</table>\n",
              "</div>"
            ],
            "text/plain": [
              "                     Neighborhood  Latitude  Longitude\n",
              "0                      Allapattah    25.815    -80.224\n",
              "1   Arts & Entertainment District   -25.799    -80.190\n",
              "2                        Brickell    25.758    -80.193\n",
              "3                     Buena Vista    25.813    -80.192\n",
              "4                   Coconut Grove    25.712    -80.257\n",
              "5                       Coral Way    25.750    -80.283\n",
              "6                 Design District    25.813    -80.193\n",
              "7                        Downtown    25.774    -80.193\n",
              "8                       Edgewater    25.802    -80.190\n",
              "9                         Flagami    25.762    -80.316\n",
              "10              Grapeland Heights    25.792    -80.258\n",
              "11                   Liberty City    25.832    -80.225\n",
              "12                   Little Haiti    25.824    -80.191\n",
              "13                  Little Havana    25.773    -80.215\n",
              "14                    Lummus Park    25.777    -80.201\n",
              "15                        Midtown    25.807    -80.193\n",
              "16                       Overtown    25.787    -80.201\n",
              "17                      Park West    25.785    -80.193\n",
              "18                      The Roads    25.756    -80.207\n",
              "19                 Upper Eastside    25.830    -80.183\n",
              "20               Venetian Islands    25.791    -80.161\n",
              "21                   Virginia Key    25.736    -80.155\n",
              "22                   West Flagler    25.775    -80.243"
            ]
          },
          "metadata": {
            "tags": []
          },
          "execution_count": 2
        }
      ]
    },
    {
      "cell_type": "markdown",
      "metadata": {
        "id": "tQBQladaIjWd"
      },
      "source": [
        "# Step 02 - Requisites API Foursquare"
      ]
    },
    {
      "cell_type": "code",
      "metadata": {
        "id": "XeWOVF3hIuxg"
      },
      "source": [
        "# PARAMETERS - API FOURSQUARE\n",
        "\n",
        "CLIENT_ID = 'FW4LQTK3S5SUAAOCARVEFH4SC3PKQKCZRBPXT02DBRIPVMOT'\n",
        "CLIENT_SECRET = 'SJG0NCWF02DOSDXMD0GE5LOOH4BFV110JKVIIKO4SFMDK4EK'\n",
        "VERSION = '20180605'\n",
        "\n",
        "# PARAMETERS - FOLIUM\n",
        "\n",
        "LATITUDE_MIAMI = 25.7825453\n",
        "LONGITUDE_MIAMI = -80.2994988"
      ],
      "execution_count": 3,
      "outputs": []
    },
    {
      "cell_type": "markdown",
      "metadata": {
        "id": "qX0F8-fkJHpN"
      },
      "source": [
        "# Step 03 - Userful Functions"
      ]
    },
    {
      "cell_type": "code",
      "metadata": {
        "id": "kIp8tfXeJOeq"
      },
      "source": [
        "def get_venues(lat,lng):\n",
        "    \n",
        "    #set variables\n",
        "    radius = 3000\n",
        "    LIMIT = 100\n",
        "    \n",
        "    #url to fetch data from foursquare api\n",
        "    url = 'https://api.foursquare.com/v2/venues/explore?&client_id={}&client_secret={}&v={}&ll={},{}&radius={}&limit={}'.format(\n",
        "            CLIENT_ID, \n",
        "            CLIENT_SECRET, \n",
        "            VERSION, \n",
        "            lat, \n",
        "            lng, \n",
        "            radius, \n",
        "            LIMIT)\n",
        "    \n",
        "    # get all the data\n",
        "    results = requests.get(url).json()\n",
        "    venue_data = results[\"response\"]['groups'][0]['items']\n",
        "    venue_details = []\n",
        "    for row in venue_data:\n",
        "        try:\n",
        "            venue_id = row['venue']['id']\n",
        "            venue_name = row['venue']['name']\n",
        "            venue_category = row['venue']['categories'][0]['name']\n",
        "            venue_details.append([venue_id, venue_name, venue_category])\n",
        "        except KeyError:\n",
        "            pass\n",
        "        \n",
        "    column_names=['ID', 'Name', 'Category']\n",
        "    df = pd.DataFrame(venue_details, columns = column_names)\n",
        "    print(\"done!\")\n",
        "    return df"
      ],
      "execution_count": 4,
      "outputs": []
    },
    {
      "cell_type": "markdown",
      "metadata": {
        "id": "fp81yuiiJ8mQ"
      },
      "source": [
        "# Step 04 - Handler Data"
      ]
    },
    {
      "cell_type": "code",
      "metadata": {
        "colab": {
          "base_uri": "https://localhost:8080/"
        },
        "id": "aSnfH6BBJ9gy",
        "outputId": "a3fceae1-6d4c-4b98-8bd9-f222e653001b"
      },
      "source": [
        "target = 'Brazilian Restaurant'\n",
        "columns_names = ['Neighborhood', 'ID', 'Name']\n",
        "brazilian_restaurants_miami = pd.DataFrame(columns = columns_names)\n",
        "count=1\n",
        "\n",
        "for row in miami_data.values.tolist():\n",
        "  Neighborhood, Latitude, Longitude = row\n",
        "  venues = get_venues(Latitude, Longitude)\n",
        "  brazilian_restaurants = venues[venues['Category'] == target]\n",
        "  print('(',count,'/',len(miami_data),')', target + ' in ' + Neighborhood + ': ' + str(len(brazilian_restaurants)))\n",
        "\n",
        "  for detail in brazilian_restaurants.values.tolist():\n",
        "    id, name, category = detail\n",
        "    brazilian_restaurants_miami = brazilian_restaurants_miami.append({'Neighborhood':Neighborhood, 'ID':id, 'Name':name, 'Category':category}, ignore_index = True)\n",
        "  count+=1"
      ],
      "execution_count": 5,
      "outputs": [
        {
          "output_type": "stream",
          "text": [
            "done!\n",
            "( 1 / 23 ) Brazilian Restaurant in Allapattah: 0\n",
            "done!\n",
            "( 2 / 23 ) Brazilian Restaurant in Arts & Entertainment District: 0\n",
            "done!\n",
            "( 3 / 23 ) Brazilian Restaurant in Brickell: 0\n",
            "done!\n",
            "( 4 / 23 ) Brazilian Restaurant in Buena Vista: 0\n",
            "done!\n",
            "( 5 / 23 ) Brazilian Restaurant in Coconut Grove: 0\n",
            "done!\n",
            "( 6 / 23 ) Brazilian Restaurant in Coral Way: 0\n",
            "done!\n",
            "( 7 / 23 ) Brazilian Restaurant in Design District: 0\n",
            "done!\n",
            "( 8 / 23 ) Brazilian Restaurant in Downtown: 1\n",
            "done!\n",
            "( 9 / 23 ) Brazilian Restaurant in Edgewater: 0\n",
            "done!\n",
            "( 10 / 23 ) Brazilian Restaurant in Flagami: 0\n",
            "done!\n",
            "( 11 / 23 ) Brazilian Restaurant in Grapeland Heights: 0\n",
            "done!\n",
            "( 12 / 23 ) Brazilian Restaurant in Liberty City: 0\n",
            "done!\n",
            "( 13 / 23 ) Brazilian Restaurant in Little Haiti: 0\n",
            "done!\n",
            "( 14 / 23 ) Brazilian Restaurant in Little Havana: 1\n",
            "done!\n",
            "( 15 / 23 ) Brazilian Restaurant in Lummus Park: 1\n",
            "done!\n",
            "( 16 / 23 ) Brazilian Restaurant in Midtown: 0\n",
            "done!\n",
            "( 17 / 23 ) Brazilian Restaurant in Overtown: 1\n",
            "done!\n",
            "( 18 / 23 ) Brazilian Restaurant in Park West: 1\n",
            "done!\n",
            "( 19 / 23 ) Brazilian Restaurant in The Roads: 0\n",
            "done!\n",
            "( 20 / 23 ) Brazilian Restaurant in Upper Eastside: 1\n",
            "done!\n",
            "( 21 / 23 ) Brazilian Restaurant in Venetian Islands: 0\n",
            "done!\n",
            "( 22 / 23 ) Brazilian Restaurant in Virginia Key: 0\n",
            "done!\n",
            "( 23 / 23 ) Brazilian Restaurant in West Flagler: 0\n"
          ],
          "name": "stdout"
        }
      ]
    },
    {
      "cell_type": "code",
      "metadata": {
        "colab": {
          "base_uri": "https://localhost:8080/",
          "height": 235
        },
        "id": "zGMHXWzPRqpG",
        "outputId": "123947aa-8c1b-4a4f-f508-dbeeb12b8464"
      },
      "source": [
        "brazilian_restaurants_miami.head(99)"
      ],
      "execution_count": 6,
      "outputs": [
        {
          "output_type": "execute_result",
          "data": {
            "text/html": [
              "<div>\n",
              "<style scoped>\n",
              "    .dataframe tbody tr th:only-of-type {\n",
              "        vertical-align: middle;\n",
              "    }\n",
              "\n",
              "    .dataframe tbody tr th {\n",
              "        vertical-align: top;\n",
              "    }\n",
              "\n",
              "    .dataframe thead th {\n",
              "        text-align: right;\n",
              "    }\n",
              "</style>\n",
              "<table border=\"1\" class=\"dataframe\">\n",
              "  <thead>\n",
              "    <tr style=\"text-align: right;\">\n",
              "      <th></th>\n",
              "      <th>Neighborhood</th>\n",
              "      <th>ID</th>\n",
              "      <th>Name</th>\n",
              "      <th>Category</th>\n",
              "    </tr>\n",
              "  </thead>\n",
              "  <tbody>\n",
              "    <tr>\n",
              "      <th>0</th>\n",
              "      <td>Downtown</td>\n",
              "      <td>514b7bb8e4b0476ac82afd55</td>\n",
              "      <td>Steak Brasil</td>\n",
              "      <td>Brazilian Restaurant</td>\n",
              "    </tr>\n",
              "    <tr>\n",
              "      <th>1</th>\n",
              "      <td>Little Havana</td>\n",
              "      <td>514b7bb8e4b0476ac82afd55</td>\n",
              "      <td>Steak Brasil</td>\n",
              "      <td>Brazilian Restaurant</td>\n",
              "    </tr>\n",
              "    <tr>\n",
              "      <th>2</th>\n",
              "      <td>Lummus Park</td>\n",
              "      <td>514b7bb8e4b0476ac82afd55</td>\n",
              "      <td>Steak Brasil</td>\n",
              "      <td>Brazilian Restaurant</td>\n",
              "    </tr>\n",
              "    <tr>\n",
              "      <th>3</th>\n",
              "      <td>Overtown</td>\n",
              "      <td>514b7bb8e4b0476ac82afd55</td>\n",
              "      <td>Steak Brasil</td>\n",
              "      <td>Brazilian Restaurant</td>\n",
              "    </tr>\n",
              "    <tr>\n",
              "      <th>4</th>\n",
              "      <td>Park West</td>\n",
              "      <td>514b7bb8e4b0476ac82afd55</td>\n",
              "      <td>Steak Brasil</td>\n",
              "      <td>Brazilian Restaurant</td>\n",
              "    </tr>\n",
              "    <tr>\n",
              "      <th>5</th>\n",
              "      <td>Upper Eastside</td>\n",
              "      <td>4ae2706ef964a5204d8e21e3</td>\n",
              "      <td>Boteco Miami</td>\n",
              "      <td>Brazilian Restaurant</td>\n",
              "    </tr>\n",
              "  </tbody>\n",
              "</table>\n",
              "</div>"
            ],
            "text/plain": [
              "     Neighborhood                        ID          Name              Category\n",
              "0        Downtown  514b7bb8e4b0476ac82afd55  Steak Brasil  Brazilian Restaurant\n",
              "1   Little Havana  514b7bb8e4b0476ac82afd55  Steak Brasil  Brazilian Restaurant\n",
              "2     Lummus Park  514b7bb8e4b0476ac82afd55  Steak Brasil  Brazilian Restaurant\n",
              "3        Overtown  514b7bb8e4b0476ac82afd55  Steak Brasil  Brazilian Restaurant\n",
              "4       Park West  514b7bb8e4b0476ac82afd55  Steak Brasil  Brazilian Restaurant\n",
              "5  Upper Eastside  4ae2706ef964a5204d8e21e3  Boteco Miami  Brazilian Restaurant"
            ]
          },
          "metadata": {
            "tags": []
          },
          "execution_count": 6
        }
      ]
    },
    {
      "cell_type": "code",
      "metadata": {
        "colab": {
          "base_uri": "https://localhost:8080/",
          "height": 808
        },
        "id": "3L0Xb0h4Og79",
        "outputId": "b3934246-46e5-4492-bbcb-91388178ef05"
      },
      "source": [
        "MIAMI_COORDINATES = (LATITUDE_MIAMI, LONGITUDE_MIAMI)\n",
        "map_miami = folium.Map(location = MIAMI_COORDINATES, zoom_start=12)\n",
        "display(map_miami)"
      ],
      "execution_count": 7,
      "outputs": [
        {
          "output_type": "display_data",
          "data": {
            "text/html": [
              "<div style=\"width:100%;\"><div style=\"position:relative;width:100%;height:0;padding-bottom:60%;\"><span style=\"color:#565656\">Make this Notebook Trusted to load map: File -> Trust Notebook</span><iframe src=\"about:blank\" style=\"position:absolute;width:100%;height:100%;left:0;top:0;border:none !important;\" data-html=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 onload=\"this.contentDocument.open();this.contentDocument.write(atob(this.getAttribute('data-html')));this.contentDocument.close();\" allowfullscreen webkitallowfullscreen mozallowfullscreen></iframe></div></div>"
            ],
            "text/plain": [
              "<folium.folium.Map at 0x7f4c67fdf080>"
            ]
          },
          "metadata": {
            "tags": []
          }
        }
      ]
    }
  ]
}